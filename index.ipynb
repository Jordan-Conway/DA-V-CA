{
 "cells": [
  {
   "cell_type": "code",
   "execution_count": 226,
   "metadata": {},
   "outputs": [],
   "source": [
    "# Imports\n",
    "import pandas as pd"
   ]
  },
  {
   "cell_type": "code",
   "execution_count": 227,
   "metadata": {},
   "outputs": [],
   "source": [
    "# Load in data\n",
    "\n",
    "# Encoding is specified for each import to resolve an \"unexpected continuation byte\" error\n",
    "\n",
    "# https://www.kaggle.com/code/nelgiriyewithana/introduction-to-world-educational-data/notebook\n",
    "world_education_data = pd.read_csv(\"Data/Global_Education.csv\", encoding=\"iso-8859-1\")\n",
    "\n",
    "# https://databank.worldbank.org/source/education-statistics-%5E-all-indicators\n",
    "world_bank_education_data = pd.read_csv(\"Data/World Bank Education Data.csv\", encoding=\"ascii\")\n",
    "\n",
    "# The following are from the UNESCO Institute for Statistics Data Browser for Education available here: https://databrowser.uis.unesco.org/browser/EDUCATION/UIS-SDG4Monitoring\n",
    "teacher_data = pd.read_csv(\"Data/UIS Teacher Data/data.csv\")\n",
    "education_years_data = pd.read_csv(\"Data/UIS Years of Education/data.csv\")\n",
    "teacher_attrition_data = pd.read_csv(\"Data/UIS Teacher Attrition/data.csv\")"
   ]
  },
  {
   "cell_type": "code",
   "execution_count": 228,
   "metadata": {},
   "outputs": [],
   "source": [
    "#Dropping values we do not need\n",
    "teacher_data = teacher_data.drop([\"qualifier\", \"magnitude\"], axis=1)\n",
    "education_years_data = education_years_data.drop([\"qualifier\", \"magnitude\"], axis=1)\n",
    "teacher_attrition_data = teacher_attrition_data.drop([\"qualifier\", \"magnitude\"], axis=1)"
   ]
  },
  {
   "cell_type": "code",
   "execution_count": 229,
   "metadata": {},
   "outputs": [
    {
     "name": "stdout",
     "output_type": "stream",
     "text": [
      "year\n",
      "2024     150.0\n",
      "2011     663.0\n",
      "2012     691.0\n",
      "2013     906.0\n",
      "2014    1035.0\n",
      "2015    1090.0\n",
      "2017    1119.0\n",
      "2016    1120.0\n",
      "2018    1143.0\n",
      "2020    1147.0\n",
      "2023    1161.0\n",
      "2019    1165.0\n",
      "2022    1166.0\n",
      "2021    1199.0\n",
      "2010       NaN\n",
      "Name: count, dtype: float64\n"
     ]
    }
   ],
   "source": [
    "# Work out which year has the most complete data\n",
    "print((teacher_data[\"year\"].value_counts() + education_years_data[\"year\"].value_counts() + teacher_attrition_data[\"year\"].value_counts()).sort_values())"
   ]
  },
  {
   "cell_type": "code",
   "execution_count": 230,
   "metadata": {},
   "outputs": [],
   "source": [
    "#2021 is the most complete year, so we will use it\n",
    "years = range(2010, 2022)\n",
    "\n",
    "new_data = pd.DataFrame(columns=[\"indicator\", \"country\"])\n",
    "\n",
    "for i in years: \n",
    "    new_data[str(i)] = []"
   ]
  },
  {
   "cell_type": "code",
   "execution_count": 234,
   "metadata": {},
   "outputs": [],
   "source": [
    "#Data in the files is sorted by indicatorId which makes it easier to add them to our new_data dataframe\n",
    "\n",
    "def load_into_data(data: pd.DataFrame, dataset: pd.DataFrame) -> pd.DataFrame:\n",
    "    for index, _ in dataset.iterrows():\n",
    "        if index == 0:\n",
    "            lastId = None\n",
    "            lastGeo = None\n",
    "        else:\n",
    "            lastId = dataset.iloc[index -1][\"indicatorId\"]\n",
    "            lastGeo = dataset.iloc[index -1][\"geoUnit\"]\n",
    "\n",
    "        currId = dataset.iloc[index][\"indicatorId\"]\n",
    "        currGeo = dataset.iloc[index][\"geoUnit\"]\n",
    "        year = dataset.iloc[index][\"year\"]\n",
    "        \n",
    "        if year > 2021:\n",
    "            continue\n",
    "\n",
    "        if lastId != currId or lastGeo != currGeo:\n",
    "            df = pd.DataFrame({\"indicator\": [currId], \"country\": [currGeo]})\n",
    "            data = pd.concat([data, df], ignore_index=True)\n",
    "        data.at[len(data) -1, str(year)] = dataset.iloc[index][\"value\"]\n",
    "    return data\n",
    "\n",
    "new_data = load_into_data(new_data,teacher_data)\n",
    "new_data = load_into_data(new_data,education_years_data)\n",
    "new_data = load_into_data(new_data,teacher_attrition_data)\n",
    "\n"
   ]
  },
  {
   "cell_type": "code",
   "execution_count": null,
   "metadata": {},
   "outputs": [],
   "source": [
    "# Replacing missing values"
   ]
  },
  {
   "cell_type": "code",
   "execution_count": null,
   "metadata": {},
   "outputs": [],
   "source": [
    "# Multivariate Analysis"
   ]
  },
  {
   "cell_type": "code",
   "execution_count": null,
   "metadata": {},
   "outputs": [],
   "source": [
    "# Normalisation"
   ]
  },
  {
   "cell_type": "code",
   "execution_count": null,
   "metadata": {},
   "outputs": [],
   "source": [
    "# Weighting and Aggregation"
   ]
  },
  {
   "cell_type": "code",
   "execution_count": null,
   "metadata": {},
   "outputs": [],
   "source": [
    "# Visualisation of Results"
   ]
  }
 ],
 "metadata": {
  "kernelspec": {
   "display_name": "Python 3",
   "language": "python",
   "name": "python3"
  },
  "language_info": {
   "codemirror_mode": {
    "name": "ipython",
    "version": 3
   },
   "file_extension": ".py",
   "mimetype": "text/x-python",
   "name": "python",
   "nbconvert_exporter": "python",
   "pygments_lexer": "ipython3",
   "version": "3.12.3"
  }
 },
 "nbformat": 4,
 "nbformat_minor": 2
}
